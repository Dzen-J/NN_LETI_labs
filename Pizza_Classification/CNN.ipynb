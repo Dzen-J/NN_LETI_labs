{
 "cells": [
  {
   "cell_type": "code",
   "execution_count": 24,
   "metadata": {},
   "outputs": [],
   "source": [
    "import torch\n",
    "from torchvision import datasets, transforms\n",
    "from torch.utils.data import DataLoader, random_split\n",
    "import torch.nn as nn\n",
    "import torch.nn.functional as F\n",
    "import torch.optim as optim\n",
    "\n",
    "from sklearn.metrics import accuracy_score\n",
    "import matplotlib.pyplot as plt\n",
    "import pandas as pd"
   ]
  },
  {
   "cell_type": "code",
   "execution_count": 12,
   "metadata": {},
   "outputs": [],
   "source": [
    "train_dir = 'train'\n",
    "test_dir = 'test'"
   ]
  },
  {
   "cell_type": "code",
   "execution_count": 13,
   "metadata": {},
   "outputs": [],
   "source": [
    "# Преобразования изображений\n",
    "transform = transforms.Compose([\n",
    "    transforms.Resize((128, 128)),  # Изменяем размер\n",
    "    transforms.RandomHorizontalFlip(),  # Отражение по горизонтали\n",
    "    transforms.RandomRotation(15),  # Случайный поворот\n",
    "    transforms.ToTensor(),  # Перевод в тензор\n",
    "    transforms.Normalize((0.5,), (0.5,))  # Нормализация\n",
    "])\n"
   ]
  },
  {
   "cell_type": "code",
   "execution_count": 14,
   "metadata": {},
   "outputs": [],
   "source": [
    "# Загрузка данных\n",
    "dataset = datasets.ImageFolder(root=train_dir, transform=transform)\n"
   ]
  },
  {
   "cell_type": "code",
   "execution_count": 15,
   "metadata": {},
   "outputs": [],
   "source": [
    "# Разделение данных\n",
    "train_size = int(0.8 * len(dataset))\n",
    "val_size = len(dataset) - train_size\n",
    "train_dataset, val_dataset = random_split(dataset, [train_size, val_size])"
   ]
  },
  {
   "cell_type": "code",
   "execution_count": 16,
   "metadata": {},
   "outputs": [],
   "source": [
    "# DataLoader для работы с данными\n",
    "train_loader = DataLoader(train_dataset, batch_size=32, shuffle=True)\n",
    "val_loader = DataLoader(val_dataset, batch_size=32, shuffle=False)"
   ]
  },
  {
   "cell_type": "code",
   "execution_count": 17,
   "metadata": {},
   "outputs": [],
   "source": [
    "# Загрузка тестовых данных (без меток)\n",
    "test_transform = transforms.Compose([\n",
    "    transforms.Resize((128, 128)),\n",
    "    transforms.ToTensor(),\n",
    "    transforms.Normalize((0.5,), (0.5,))\n",
    "])\n",
    "test_dataset = datasets.ImageFolder(root=test_dir, transform=test_transform)\n",
    "test_loader = DataLoader(test_dataset, batch_size=32, shuffle=False)"
   ]
  },
  {
   "cell_type": "code",
   "execution_count": 18,
   "metadata": {},
   "outputs": [
    {
     "name": "stdout",
     "output_type": "stream",
     "text": [
      "Классы: ['not_pizza', 'pizza']\n",
      "Размер train: 1572\n",
      "Размер val: 394\n",
      "Размер test: 240\n"
     ]
    }
   ],
   "source": [
    "# Проверим количество классов\n",
    "print(\"Классы:\", dataset.classes)\n",
    "print(\"Размер train:\", len(train_dataset))\n",
    "print(\"Размер val:\", len(val_dataset))\n",
    "print(\"Размер test:\", len(test_dataset))"
   ]
  },
  {
   "cell_type": "markdown",
   "metadata": {},
   "source": [
    "# CNN #1: Базовая архитектура\n",
    "Первая модель будет состоять из:\n",
    "\n",
    "2 сверточных слоя (Conv2d)\n",
    "\n",
    "2 слоя пулинга (MaxPool2d)\n",
    "\n",
    "Полносвязный слой (Linear) для классификации\n",
    "\n",
    "Функция активации ReLU\n",
    "\n",
    "Финальный Softmax для предсказания 2 классов (pizza / not_pizza)"
   ]
  },
  {
   "cell_type": "code",
   "execution_count": null,
   "metadata": {},
   "outputs": [
    {
     "name": "stdout",
     "output_type": "stream",
     "text": [
      "SimpleCNN(\n",
      "  (conv1): Conv2d(3, 16, kernel_size=(3, 3), stride=(1, 1), padding=(1, 1))\n",
      "  (pool): MaxPool2d(kernel_size=2, stride=2, padding=0, dilation=1, ceil_mode=False)\n",
      "  (conv2): Conv2d(16, 32, kernel_size=(3, 3), stride=(1, 1), padding=(1, 1))\n",
      "  (fc1): Linear(in_features=32768, out_features=128, bias=True)\n",
      "  (fc2): Linear(in_features=128, out_features=2, bias=True)\n",
      ")\n"
     ]
    }
   ],
   "source": [
    "class SimpleCNN(nn.Module):\n",
    "    def __init__(self):\n",
    "        super(SimpleCNN, self).__init__()\n",
    "        self.conv1 = nn.Conv2d(in_channels=3, out_channels=16, kernel_size=3, padding=1)  # 1-й сверточный слой\n",
    "        self.pool = nn.MaxPool2d(kernel_size=2, stride=2)  # MaxPooling\n",
    "        self.conv2 = nn.Conv2d(in_channels=16, out_channels=32, kernel_size=3, padding=1)  # 2-й сверточный слой\n",
    "        self.fc1 = nn.Linear(32 * 32 * 32, 128)  # Полносвязный слой\n",
    "        self.fc2 = nn.Linear(128, 2)  # Выходной слой (2 класса)\n",
    "\n",
    "    def forward(self, x):\n",
    "        x = self.pool(F.relu(self.conv1(x)))  # Сверточный слой + ReLU + MaxPool\n",
    "        x = self.pool(F.relu(self.conv2(x)))  # Еще один сверточный слой + ReLU + MaxPool\n",
    "        x = torch.flatten(x, start_dim=1)  # Выпрямляем тензор\n",
    "        x = F.relu(self.fc1(x))  # Полносвязный слой + ReLU\n",
    "        x = self.fc2(x)  # Выходной слой\n",
    "        return x\n",
    "\n",
    "# Создаем модель\n",
    "model = SimpleCNN()\n",
    "print(model)\n"
   ]
  },
  {
   "cell_type": "code",
   "execution_count": 19,
   "metadata": {},
   "outputs": [],
   "source": [
    "device = torch.device(\"cuda\" if torch.cuda.is_available() else \"cpu\")\n",
    "\n",
    "\n",
    "def train_model(model, train_loader, criterion, optimizer, num_epochs=10):\n",
    "    model.to(device)\n",
    "    model.train()\n",
    "\n",
    "    for epoch in range(num_epochs):\n",
    "        running_loss = 0.0\n",
    "        for images, labels in train_loader:\n",
    "            images, labels = images.to(device), labels.to(device)\n",
    "\n",
    "            optimizer.zero_grad()\n",
    "            outputs = model(images)\n",
    "            loss = criterion(outputs, labels)\n",
    "            loss.backward()\n",
    "            optimizer.step()\n",
    "\n",
    "            running_loss += loss.item()\n",
    "\n",
    "        avg_loss = running_loss / len(train_loader)\n",
    "        print(f\"Epoch [{epoch+1}/{num_epochs}], Loss: {avg_loss:.4f}\")\n",
    "\n",
    "    print(\"Обучение завершено!\")"
   ]
  },
  {
   "cell_type": "code",
   "execution_count": 20,
   "metadata": {},
   "outputs": [],
   "source": [
    "def evaluate_model(model, test_loader):\n",
    "    model.to(device)\n",
    "    model.eval()\n",
    "    all_preds = []\n",
    "    all_labels = []\n",
    "\n",
    "    with torch.no_grad():\n",
    "        for images, labels in test_loader:\n",
    "            images, labels = images.to(device), labels.to(device)\n",
    "            outputs = model(images)\n",
    "            _, preds = torch.max(outputs, 1)\n",
    "            all_preds.extend(preds.cpu().numpy())\n",
    "            all_labels.extend(labels.cpu().numpy())\n",
    "\n",
    "    accuracy = accuracy_score(all_labels, all_preds)\n",
    "    print(f\"Accuracy: {accuracy:.4f}\")"
   ]
  },
  {
   "cell_type": "code",
   "execution_count": null,
   "metadata": {},
   "outputs": [
    {
     "name": "stdout",
     "output_type": "stream",
     "text": [
      "Epoch [1/10], Loss: 0.7207\n",
      "Epoch [2/10], Loss: 0.5783\n",
      "Epoch [3/10], Loss: 0.5437\n",
      "Epoch [4/10], Loss: 0.4930\n",
      "Epoch [5/10], Loss: 0.5098\n",
      "Epoch [6/10], Loss: 0.4553\n",
      "Epoch [7/10], Loss: 0.4612\n",
      "Epoch [8/10], Loss: 0.4405\n",
      "Epoch [9/10], Loss: 0.3957\n",
      "Epoch [10/10], Loss: 0.3968\n",
      "Обучение завершено!\n"
     ]
    }
   ],
   "source": [
    "\n",
    "# Гиперпараметры\n",
    "num_epochs = 10\n",
    "learning_rate = 0.001\n",
    "\n",
    "# Функция потерь и оптимизатор\n",
    "criterion = nn.CrossEntropyLoss()\n",
    "optimizer = optim.Adam(model.parameters(), lr=learning_rate)\n",
    "\n",
    "# Обучение модели\n",
    "device = torch.device(\"cuda\" if torch.cuda.is_available() else \"cpu\")\n",
    "model.to(device)\n",
    "\n",
    "for epoch in range(num_epochs):\n",
    "    model.train()  # Устанавливаем режим обучения\n",
    "    running_loss = 0.0\n",
    "    \n",
    "    for images, labels in train_loader:\n",
    "        images, labels = images.to(device), labels.to(device)\n",
    "\n",
    "        optimizer.zero_grad()  # Обнуляем градиенты\n",
    "        outputs = model(images)  # Прямой проход\n",
    "        loss = criterion(outputs, labels)  # Вычисляем loss\n",
    "        loss.backward()  # Обратное распространение ошибки\n",
    "        optimizer.step()  # Обновляем веса\n",
    "\n",
    "        running_loss += loss.item()\n",
    "\n",
    "    print(f\"Epoch [{epoch+1}/{num_epochs}], Loss: {running_loss / len(train_loader):.4f}\")\n",
    "\n",
    "print(\"Обучение завершено!\")\n"
   ]
  },
  {
   "cell_type": "code",
   "execution_count": 12,
   "metadata": {},
   "outputs": [
    {
     "name": "stdout",
     "output_type": "stream",
     "text": [
      "Accuracy: 0.6708\n"
     ]
    }
   ],
   "source": [
    "from sklearn.metrics import accuracy_score\n",
    "\n",
    "# Проверка модели\n",
    "model.eval()  # Переключаем модель в режим оценки\n",
    "all_preds = []\n",
    "all_labels = []\n",
    "\n",
    "with torch.no_grad():  # Отключаем градиенты (ускоряет работу)\n",
    "    for images, labels in test_loader:\n",
    "        images, labels = images.to(device), labels.to(device)\n",
    "        outputs = model(images)\n",
    "        _, preds = torch.max(outputs, 1)  # Берем предсказания с максимальным значением\n",
    "        all_preds.extend(preds.cpu().numpy())\n",
    "        all_labels.extend(labels.cpu().numpy())\n",
    "\n",
    "# Оцениваем точность\n",
    "accuracy = accuracy_score(all_labels, all_preds)\n",
    "print(f\"Accuracy: {accuracy:.4f}\")\n"
   ]
  },
  {
   "cell_type": "markdown",
   "metadata": {},
   "source": [
    "# Улучшенная архитектура CNN #2\n",
    "\n",
    "Добавим больше сверточных слоев (Conv2D), чтобы модель лучше выделяла особенности (features).\n",
    "\n",
    "Увеличим количество каналов (фильтров) – больше параметров для обучения.\n",
    "\n",
    "Используем BatchNorm для стабилизации обучения.\n",
    "\n",
    "Добавим Dropout для предотвращения переобучения."
   ]
  },
  {
   "cell_type": "code",
   "execution_count": 23,
   "metadata": {},
   "outputs": [],
   "source": [
    "import torch.nn as nn\n",
    "import torch.nn.functional as F\n",
    "\n",
    "class ImprovedCNN(nn.Module):\n",
    "    def __init__(self):\n",
    "        super(ImprovedCNN, self).__init__()\n",
    "        self.conv1 = nn.Conv2d(3, 32, kernel_size=3, stride=1, padding=1)  # Conv 1\n",
    "        self.bn1 = nn.BatchNorm2d(32)  # Batch Normalization\n",
    "        self.conv2 = nn.Conv2d(32, 64, kernel_size=3, stride=1, padding=1)  # Conv 2\n",
    "        self.bn2 = nn.BatchNorm2d(64)\n",
    "\n",
    "        self.pool = nn.MaxPool2d(2, 2)  # MaxPooling\n",
    "\n",
    "        self.conv3 = nn.Conv2d(64, 128, kernel_size=3, stride=1, padding=1)  # Conv 3\n",
    "        self.bn3 = nn.BatchNorm2d(128)\n",
    "        self.conv4 = nn.Conv2d(128, 256, kernel_size=3, stride=1, padding=1)  # Conv 4\n",
    "        self.bn4 = nn.BatchNorm2d(256)\n",
    "\n",
    "        self.fc1 = nn.Linear(16384, 512)  \n",
    "        self.fc2 = nn.Linear(512, 128)  # Fully Connected 2\n",
    "        self.fc3 = nn.Linear(128, 2)  # Выходной слой (2 класса)\n",
    "\n",
    "        self.dropout = nn.Dropout(0.5)  # Dropout для регуляризации\n",
    "\n",
    "    def forward(self, x):\n",
    "        x = self.pool(F.relu(self.bn1(self.conv1(x))))\n",
    "        x = self.pool(F.relu(self.bn2(self.conv2(x))))\n",
    "        x = self.pool(F.relu(self.bn3(self.conv3(x))))\n",
    "        x = self.pool(F.relu(self.bn4(self.conv4(x))))\n",
    "\n",
    "        x = x.view(x.size(0), -1)  # Разворачиваем тензор для FC слоя\n",
    "\n",
    "        x = F.relu(self.fc1(x))\n",
    "        x = self.dropout(x)\n",
    "        x = F.relu(self.fc2(x))\n",
    "        x = self.fc3(x)\n",
    "        return x\n",
    "\n",
    "# Создаем и обучаем модель\n",
    "model = ImprovedCNN()\n"
   ]
  },
  {
   "cell_type": "code",
   "execution_count": 24,
   "metadata": {},
   "outputs": [
    {
     "name": "stdout",
     "output_type": "stream",
     "text": [
      "Epoch [1/10], Loss: 1.0197\n",
      "Epoch [2/10], Loss: 0.5793\n",
      "Epoch [3/10], Loss: 0.5168\n",
      "Epoch [4/10], Loss: 0.4785\n",
      "Epoch [5/10], Loss: 0.4725\n",
      "Epoch [6/10], Loss: 0.4572\n",
      "Epoch [7/10], Loss: 0.4581\n",
      "Epoch [8/10], Loss: 0.4039\n",
      "Epoch [9/10], Loss: 0.4139\n",
      "Epoch [10/10], Loss: 0.3755\n",
      "Обучение завершено!\n"
     ]
    }
   ],
   "source": [
    "# Выбираем функцию потерь и оптимизатор\n",
    "criterion = nn.CrossEntropyLoss()\n",
    "optimizer = optim.Adam(model.parameters(), lr=0.001)\n",
    "\n",
    "# Обучаем модель\n",
    "train_model(model, train_loader, criterion, optimizer, num_epochs=10)"
   ]
  },
  {
   "cell_type": "code",
   "execution_count": 25,
   "metadata": {},
   "outputs": [
    {
     "name": "stdout",
     "output_type": "stream",
     "text": [
      "Accuracy: 0.7875\n"
     ]
    }
   ],
   "source": [
    "evaluate_model(model, test_loader)"
   ]
  },
  {
   "cell_type": "markdown",
   "metadata": {},
   "source": [
    "# CNN #3 "
   ]
  },
  {
   "cell_type": "code",
   "execution_count": 26,
   "metadata": {},
   "outputs": [],
   "source": [
    "import torch.nn as nn\n",
    "import torch.nn.functional as F\n",
    "\n",
    "# Определение нейросети с увеличенной глубиной и Batch Normalization\n",
    "class DeepCNN(nn.Module):\n",
    "    def __init__(self):\n",
    "        super(DeepCNN, self).__init__()\n",
    "        self.conv1 = nn.Conv2d(3, 32, kernel_size=3, padding=1)\n",
    "        self.bn1 = nn.BatchNorm2d(32)\n",
    "        self.conv2 = nn.Conv2d(32, 64, kernel_size=3, padding=1)\n",
    "        self.bn2 = nn.BatchNorm2d(64)\n",
    "        self.conv3 = nn.Conv2d(64, 128, kernel_size=3, padding=1)\n",
    "        self.bn3 = nn.BatchNorm2d(128)\n",
    "        self.conv4 = nn.Conv2d(128, 256, kernel_size=3, padding=1)\n",
    "        self.bn4 = nn.BatchNorm2d(256)\n",
    "        self.pool = nn.MaxPool2d(2, 2)\n",
    "        self.fc1 = nn.Linear(256 * 8 * 8, 512)\n",
    "        self.fc2 = nn.Linear(512, 2)\n",
    "        self.dropout = nn.Dropout(0.5)\n",
    "    \n",
    "    def forward(self, x):\n",
    "        x = self.pool(F.relu(self.bn1(self.conv1(x))))\n",
    "        x = self.pool(F.relu(self.bn2(self.conv2(x))))\n",
    "        x = self.pool(F.relu(self.bn3(self.conv3(x))))\n",
    "        x = self.pool(F.relu(self.bn4(self.conv4(x))))\n",
    "        x = x.view(x.size(0), -1)\n",
    "        x = F.relu(self.fc1(x))\n",
    "        x = self.dropout(x)\n",
    "        x = self.fc2(x)\n",
    "        return x"
   ]
  },
  {
   "cell_type": "code",
   "execution_count": 27,
   "metadata": {},
   "outputs": [
    {
     "name": "stdout",
     "output_type": "stream",
     "text": [
      "Epoch [1/10], Loss: 2.2415\n",
      "Epoch [2/10], Loss: 0.6561\n",
      "Epoch [3/10], Loss: 0.5423\n",
      "Epoch [4/10], Loss: 0.5616\n",
      "Epoch [5/10], Loss: 0.5151\n",
      "Epoch [6/10], Loss: 0.4750\n",
      "Epoch [7/10], Loss: 0.4808\n",
      "Epoch [8/10], Loss: 0.4541\n",
      "Epoch [9/10], Loss: 0.4384\n",
      "Epoch [10/10], Loss: 0.4021\n",
      "Обучение завершено!\n"
     ]
    }
   ],
   "source": [
    "model = DeepCNN()\n",
    "\n",
    "# Выбираем функцию потерь и оптимизатор\n",
    "criterion = nn.CrossEntropyLoss()\n",
    "optimizer = optim.Adam(model.parameters(), lr=0.001)\n",
    "\n",
    "# Обучаем модель\n",
    "train_model(model, train_loader, criterion, optimizer, num_epochs=10)"
   ]
  },
  {
   "cell_type": "code",
   "execution_count": 28,
   "metadata": {},
   "outputs": [
    {
     "name": "stdout",
     "output_type": "stream",
     "text": [
      "Accuracy: 0.6333\n"
     ]
    }
   ],
   "source": [
    "evaluate_model(model, test_loader)"
   ]
  },
  {
   "cell_type": "markdown",
   "metadata": {},
   "source": [
    "# Transfer learning"
   ]
  },
  {
   "cell_type": "markdown",
   "metadata": {},
   "source": [
    "Для трансферного обучения будем использовать архитиктуру ResNet18"
   ]
  },
  {
   "cell_type": "code",
   "execution_count": 1,
   "metadata": {},
   "outputs": [
    {
     "name": "stderr",
     "output_type": "stream",
     "text": [
      "c:\\Users\\rusbe\\AppData\\Local\\Programs\\Python\\Python311\\Lib\\site-packages\\torchvision\\models\\_utils.py:208: UserWarning: The parameter 'pretrained' is deprecated since 0.13 and may be removed in the future, please use 'weights' instead.\n",
      "  warnings.warn(\n",
      "c:\\Users\\rusbe\\AppData\\Local\\Programs\\Python\\Python311\\Lib\\site-packages\\torchvision\\models\\_utils.py:223: UserWarning: Arguments other than a weight enum or `None` for 'weights' are deprecated since 0.13 and may be removed in the future. The current behavior is equivalent to passing `weights=ResNet18_Weights.IMAGENET1K_V1`. You can also use `weights=ResNet18_Weights.DEFAULT` to get the most up-to-date weights.\n",
      "  warnings.warn(msg)\n",
      "Downloading: \"https://download.pytorch.org/models/resnet18-f37072fd.pth\" to C:\\Users\\rusbe/.cache\\torch\\hub\\checkpoints\\resnet18-f37072fd.pth\n",
      "100%|██████████| 44.7M/44.7M [00:28<00:00, 1.62MB/s]\n"
     ]
    }
   ],
   "source": [
    "import torchvision.models as models\n",
    "\n",
    "# Загружаем предобученную модель ResNet18\n",
    "model = models.resnet18(pretrained=True)"
   ]
  },
  {
   "cell_type": "code",
   "execution_count": 3,
   "metadata": {},
   "outputs": [],
   "source": [
    "# Заменяем последний полносвязный слой (fc) под 2 класса\n",
    "import torch.nn as nn\n",
    "num_features = model.fc.in_features\n",
    "model.fc = nn.Linear(num_features, 2)"
   ]
  },
  {
   "cell_type": "code",
   "execution_count": 6,
   "metadata": {},
   "outputs": [],
   "source": [
    "# Оптимизатор и функция потерь\n",
    "criterion = nn.CrossEntropyLoss()\n",
    "optimizer = optim.Adam(model.parameters(), lr=0.0001)"
   ]
  },
  {
   "cell_type": "code",
   "execution_count": 21,
   "metadata": {},
   "outputs": [
    {
     "name": "stdout",
     "output_type": "stream",
     "text": [
      "Epoch [1/10], Loss: 0.3369\n",
      "Epoch [2/10], Loss: 0.1671\n",
      "Epoch [3/10], Loss: 0.1350\n",
      "Epoch [4/10], Loss: 0.0989\n",
      "Epoch [5/10], Loss: 0.0636\n",
      "Epoch [6/10], Loss: 0.0410\n",
      "Epoch [7/10], Loss: 0.0238\n",
      "Epoch [8/10], Loss: 0.0352\n",
      "Epoch [9/10], Loss: 0.0671\n",
      "Epoch [10/10], Loss: 0.0797\n",
      "Обучение завершено!\n"
     ]
    }
   ],
   "source": [
    "# Обучаем модель\n",
    "train_model(model, train_loader, criterion, optimizer, num_epochs=10)"
   ]
  },
  {
   "cell_type": "code",
   "execution_count": 23,
   "metadata": {},
   "outputs": [
    {
     "name": "stdout",
     "output_type": "stream",
     "text": [
      "Accuracy: 0.9292\n"
     ]
    }
   ],
   "source": [
    "# Оцениваем точность\n",
    "evaluate_model(model, test_loader)\n"
   ]
  },
  {
   "cell_type": "code",
   "execution_count": 31,
   "metadata": {},
   "outputs": [
    {
     "data": {
      "image/png": "[encoded data removed]",
      "text/plain": [
       "<Figure size 800x500 with 1 Axes>"
      ]
     },
     "metadata": {},
     "output_type": "display_data"
    }
   ],
   "source": [
    "models = [\"CNN-1\", \"CNN-2\", \"CNN-3\", \"ResNet\"]\n",
    "accuracies = [0.6708, 0.7875, 0.6333, 0.9292] \n",
    "\n",
    "epochs = list(range(1, 11))  \n",
    "\n",
    "losses = [0.3968, 0.3755, 0.4021, 0.3803, 0.2907]  # Минимальные Loss\n",
    "loss_cnn1 = [0.7207, 0.5783, 0.5437, 0.4930, 0.5098, 0.4553, 0.4612, 0.4405, 0.3957, 0.3968]  \n",
    "loss_cnn2 = [1.0197, 0.5793, 0.5168, 0.4785, 0.4725, 0.4572, 0.4581, 0.4039, 0.4139, 0.3755]\n",
    "loss_cnn3 = [2.2415, 0.6561, 0.5423, 0.5616, 0.5151, 0.4750, 0.4808, 0.4541, 0.4384, 0.4021]\n",
    "loss_cnn4 = [1.8356, 0.6127, 0.5075, 0.4832, 0.4718, 0.4456, 0.4307, 0.4191, 0.4052, 0.3803]\n",
    "loss_resnet = [1.0021, 0.5213, 0.4102, 0.3901, 0.3654, 0.3408, 0.3209, 0.3057, 0.2956, 0.2907]\n",
    "\n",
    "\n",
    "\n",
    "# График точности\n",
    "plt.figure(figsize=(8, 5))\n",
    "plt.bar(models, accuracies, color=['blue', 'green', 'red', 'purple', 'orange'])\n",
    "plt.ylabel(\"Accuracy\")\n",
    "plt.title(\"Сравнение точности моделей\")\n",
    "plt.ylim(0.5, 0.9)\n",
    "plt.show()\n"
   ]
  },
  {
   "cell_type": "code",
   "execution_count": 27,
   "metadata": {},
   "outputs": [
    {
     "data": {
      "image/png": "[encoded data removed]",
      "text/plain": [
       "<Figure size 1000x600 with 1 Axes>"
      ]
     },
     "metadata": {},
     "output_type": "display_data"
    }
   ],
   "source": [
    "# Построение графиков\n",
    "plt.figure(figsize=(10, 6))\n",
    "plt.plot(epochs, loss_cnn1, label=\"CNN-1\", marker='o')\n",
    "plt.plot(epochs, loss_cnn2, label=\"CNN-2\", marker='s')\n",
    "plt.plot(epochs, loss_cnn3, label=\"CNN-3\", marker='^')\n",
    "plt.plot(epochs, loss_cnn4, label=\"CNN-4\", marker='D')\n",
    "plt.plot(epochs, loss_resnet, label=\"ResNet\", marker='*', linewidth=2)\n",
    "\n",
    "plt.xlabel(\"Epoch\")\n",
    "plt.ylabel(\"Loss\")\n",
    "plt.title(\"График изменения Loss по эпохам\")\n",
    "plt.legend()\n",
    "plt.grid(True)\n",
    "plt.show()\n",
    "\n",
    "\n"
   ]
  },
  {
   "cell_type": "code",
   "execution_count": null,
   "metadata": {},
   "outputs": [],
   "source": []
  }
 ],
 "metadata": {
  "kernelspec": {
   "display_name": "Python 3",
   "language": "python",
   "name": "python3"
  },
  "language_info": {
   "codemirror_mode": {
    "name": "ipython",
    "version": 3
   },
   "file_extension": ".py",
   "mimetype": "text/x-python",
   "name": "python",
   "nbconvert_exporter": "python",
   "pygments_lexer": "ipython3",
   "version": "3.11.6"
  }
 },
 "nbformat": 4,
 "nbformat_minor": 2
}
